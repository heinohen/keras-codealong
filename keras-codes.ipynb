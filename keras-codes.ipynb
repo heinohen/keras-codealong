{
 "cells": [
  {
   "cell_type": "code",
   "execution_count": 25,
   "id": "3dfad6dc-80fe-4766-b25e-c74ede252507",
   "metadata": {
    "tags": []
   },
   "outputs": [],
   "source": [
    "import numpy as np\n",
    "import mnist\n",
    "from tensorflow import keras\n"
   ]
  },
  {
   "cell_type": "code",
   "execution_count": 26,
   "id": "1e06751d-8af5-4127-a6b9-ed4d49541ab4",
   "metadata": {
    "tags": []
   },
   "outputs": [],
   "source": [
    "# train and test images - Preparing data\n",
    "\n",
    "train_images = mnist.train_images()\n",
    "train_labels = mnist.train_labels()\n",
    "test_images = mnist.test_images()\n",
    "test_labels = mnist.test_labels()\n",
    "\n",
    "\n",
    "train_images = (train_images / 255) - 0.5\n",
    "test_images = (test_images / 255) - 0.5"
   ]
  },
  {
   "cell_type": "code",
   "execution_count": 27,
   "id": "1cc3f466-0338-4e8d-97e6-cef952cd19f4",
   "metadata": {
    "tags": []
   },
   "outputs": [],
   "source": [
    "train_images = train_images.reshape((-1,784))\n",
    "test_images = test_images.reshape((-1,784))"
   ]
  },
  {
   "cell_type": "code",
   "execution_count": 28,
   "id": "d9191141-35f1-40b0-99b7-f61e8dbe0e43",
   "metadata": {
    "tags": []
   },
   "outputs": [
    {
     "name": "stdout",
     "output_type": "stream",
     "text": [
      "(60000, 784)\n",
      "(10000, 784)\n"
     ]
    }
   ],
   "source": [
    "print(train_images.shape)\n",
    "print(test_images.shape)"
   ]
  },
  {
   "cell_type": "code",
   "execution_count": 29,
   "id": "e4297e75-04d8-403d-8ed0-0978c1f8342b",
   "metadata": {
    "tags": []
   },
   "outputs": [],
   "source": [
    "# Building the model\n",
    "\n",
    "from tensorflow.keras.models import Sequential\n",
    "from tensorflow.keras.layers import Dense\n",
    "\n",
    "# \n",
    "\n",
    "model = Sequential([\n",
    "    # layers goes here\n",
    "    Dense(64, activation='relu', input_shape=(784,)),\n",
    "    Dense(64, activation='relu'),\n",
    "    Dense(10, activation='softmax'),\n",
    "])\n"
   ]
  },
  {
   "cell_type": "code",
   "execution_count": null,
   "id": "36bdb190-d48d-4d0c-9251-376085e6cae3",
   "metadata": {},
   "outputs": [],
   "source": [
    "model.compile(\n",
    "    optimizer='adam', # adam gradient based\n",
    "    loss='categorical_crossentro"
   ]
  }
 ],
 "metadata": {
  "kernelspec": {
   "display_name": "Python 3 (ipykernel)",
   "language": "python",
   "name": "python3"
  },
  "language_info": {
   "codemirror_mode": {
    "name": "ipython",
    "version": 3
   },
   "file_extension": ".py",
   "mimetype": "text/x-python",
   "name": "python",
   "nbconvert_exporter": "python",
   "pygments_lexer": "ipython3",
   "version": "3.11.2"
  }
 },
 "nbformat": 4,
 "nbformat_minor": 5
}
